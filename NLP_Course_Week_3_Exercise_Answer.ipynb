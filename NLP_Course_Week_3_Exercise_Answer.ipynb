{
  "nbformat": 4,
  "nbformat_minor": 0,
  "metadata": {
    "accelerator": "GPU",
    "colab": {
      "name": "NLP Course - Week 3 Exercise Answer.ipynb",
      "provenance": [],
      "toc_visible": true,
      "include_colab_link": true
    },
    "kernelspec": {
      "display_name": "Python 3",
      "name": "python3"
    }
  },
  "cells": [
    {
      "cell_type": "markdown",
      "metadata": {
        "id": "view-in-github",
        "colab_type": "text"
      },
      "source": [
        "<a href=\"https://colab.research.google.com/github/chitrung218/Code/blob/master/NLP_Course_Week_3_Exercise_Answer.ipynb\" target=\"_parent\"><img src=\"https://colab.research.google.com/assets/colab-badge.svg\" alt=\"Open In Colab\"/></a>"
      ]
    },
    {
      "cell_type": "code",
      "metadata": {
        "id": "zX4Kg8DUTKWO",
        "colab_type": "code",
        "colab": {}
      },
      "source": [
        "#@title Licensed under the Apache License, Version 2.0 (the \"License\");\n",
        "# you may not use this file except in compliance with the License.\n",
        "# You may obtain a copy of the License at\n",
        "#\n",
        "# https://www.apache.org/licenses/LICENSE-2.0\n",
        "#\n",
        "# Unless required by applicable law or agreed to in writing, software\n",
        "# distributed under the License is distributed on an \"AS IS\" BASIS,\n",
        "# WITHOUT WARRANTIES OR CONDITIONS OF ANY KIND, either express or implied.\n",
        "# See the License for the specific language governing permissions and\n",
        "# limitations under the License."
      ],
      "execution_count": 0,
      "outputs": []
    },
    {
      "cell_type": "code",
      "metadata": {
        "colab_type": "code",
        "id": "hmA6EzkQJ5jt",
        "colab": {}
      },
      "source": [
        "import json\n",
        "import tensorflow as tf\n",
        "import csv\n",
        "import random\n",
        "import numpy as np\n",
        "\n",
        "from tensorflow.keras.preprocessing.text import Tokenizer\n",
        "from tensorflow.keras.preprocessing.sequence import pad_sequences\n",
        "from tensorflow.keras.utils import to_categorical\n",
        "from tensorflow.keras import regularizers\n",
        "\n",
        "\n",
        "embedding_dim = 100\n",
        "max_length = 16\n",
        "trunc_type='post'\n",
        "padding_type='post'\n",
        "oov_tok = \"<OOV>\"\n",
        "training_size=160000\n",
        "test_portion=.1\n",
        "\n",
        "corpus = []\n"
      ],
      "execution_count": 0,
      "outputs": []
    },
    {
      "cell_type": "code",
      "metadata": {
        "colab_type": "code",
        "id": "bM0l_dORKqE0",
        "outputId": "50fb9552-1ee7-4f5f-9f21-8cf42c753ffc",
        "colab": {
          "base_uri": "https://localhost:8080/",
          "height": 204
        }
      },
      "source": [
        "# Note that I cleaned the Stanford dataset to remove LATIN1 encoding to make it easier for Python CSV reader\n",
        "# You can do that yourself with:\n",
        "# iconv -f LATIN1 -t UTF8 training.1600000.processed.noemoticon.csv -o training_cleaned.csv\n",
        "# I then hosted it on my site to make it easier to use in this notebook\n",
        "\n",
        "!wget --no-check-certificate \\\n",
        "    https://storage.googleapis.com/laurencemoroney-blog.appspot.com/training_cleaned.csv \\\n",
        "    -O /tmp/training_cleaned.csv\n",
        "\n",
        "num_sentences = 0\n",
        "\n",
        "with open(\"/tmp/training_cleaned.csv\") as csvfile:\n",
        "    reader = csv.reader(csvfile, delimiter=',')\n",
        "    for row in reader:\n",
        "        list_item=[]\n",
        "        list_item.append(row[5])\n",
        "        this_label=row[0]\n",
        "        if this_label=='0':\n",
        "            list_item.append(0)\n",
        "        else:\n",
        "            list_item.append(1)\n",
        "        num_sentences = num_sentences + 1\n",
        "        corpus.append(list_item)\n"
      ],
      "execution_count": 0,
      "outputs": [
        {
          "output_type": "stream",
          "text": [
            "--2020-05-21 09:30:37--  https://storage.googleapis.com/laurencemoroney-blog.appspot.com/training_cleaned.csv\n",
            "Resolving storage.googleapis.com (storage.googleapis.com)... 172.217.194.128, 2404:6800:4003:c02::80\n",
            "Connecting to storage.googleapis.com (storage.googleapis.com)|172.217.194.128|:443... connected.\n",
            "HTTP request sent, awaiting response... 200 OK\n",
            "Length: 238942690 (228M) [application/octet-stream]\n",
            "Saving to: ‘/tmp/training_cleaned.csv’\n",
            "\n",
            "/tmp/training_clean 100%[===================>] 227.87M  45.3MB/s    in 5.0s    \n",
            "\n",
            "2020-05-21 09:30:43 (45.3 MB/s) - ‘/tmp/training_cleaned.csv’ saved [238942690/238942690]\n",
            "\n"
          ],
          "name": "stdout"
        }
      ]
    },
    {
      "cell_type": "code",
      "metadata": {
        "colab_type": "code",
        "id": "3kxblBUjEUX-",
        "outputId": "47c3e90f-0b8b-4916-cb85-58b2ea8c94d7",
        "colab": {
          "base_uri": "https://localhost:8080/",
          "height": 68
        }
      },
      "source": [
        "print(num_sentences)\n",
        "print(len(corpus))\n",
        "print(corpus[1])\n",
        "\n",
        "# Expected Output:\n",
        "# 1600000\n",
        "# 1600000\n",
        "# [\"is upset that he can't update his Facebook by texting it... and might cry as a result  School today also. Blah!\", 0]"
      ],
      "execution_count": 0,
      "outputs": [
        {
          "output_type": "stream",
          "text": [
            "1600000\n",
            "1600000\n",
            "[\"is upset that he can't update his Facebook by texting it... and might cry as a result  School today also. Blah!\", 0]\n"
          ],
          "name": "stdout"
        }
      ]
    },
    {
      "cell_type": "code",
      "metadata": {
        "colab_type": "code",
        "id": "ohOGz24lsNAD",
        "colab": {}
      },
      "source": [
        "sentences=[]\n",
        "labels=[]\n",
        "random.shuffle(corpus)\n",
        "for x in range(training_size):\n",
        "    sentences.append(corpus[x][0])\n",
        "    labels.append(corpus[x][1])\n",
        "\n",
        "\n",
        "tokenizer = Tokenizer()\n",
        "tokenizer.fit_on_texts(sentences)\n",
        "\n",
        "word_index = tokenizer.word_index\n",
        "vocab_size=len(word_index)\n",
        "\n",
        "sequences = tokenizer.texts_to_sequences(sentences)\n",
        "padded = pad_sequences(sequences, maxlen=max_length, padding=padding_type, truncating=trunc_type)\n",
        "\n",
        "split = int(test_portion * training_size)\n",
        "\n",
        "test_sequences = padded[0:split]\n",
        "training_sequences = padded[split:training_size]\n",
        "test_labels = labels[0:split]\n",
        "training_labels = labels[split:training_size]"
      ],
      "execution_count": 0,
      "outputs": []
    },
    {
      "cell_type": "code",
      "metadata": {
        "colab_type": "code",
        "id": "gIrtRem1En3N",
        "outputId": "df36cb57-1f26-4b80-a112-a383ac415ff1",
        "colab": {
          "base_uri": "https://localhost:8080/",
          "height": 51
        }
      },
      "source": [
        "print(vocab_size)\n",
        "print(word_index['i'])\n",
        "# Expected Output\n",
        "# 138858\n",
        "# 1"
      ],
      "execution_count": 0,
      "outputs": [
        {
          "output_type": "stream",
          "text": [
            "138855\n",
            "1\n"
          ],
          "name": "stdout"
        }
      ]
    },
    {
      "cell_type": "code",
      "metadata": {
        "colab_type": "code",
        "id": "C1zdgJkusRh0",
        "outputId": "0ef720eb-b36c-4250-88b3-9b0e83ded4d8",
        "colab": {
          "base_uri": "https://localhost:8080/",
          "height": 204
        }
      },
      "source": [
        "# Note this is the 100 dimension version of GloVe from Stanford\n",
        "# I unzipped and hosted it on my site to make this notebook easier\n",
        "!wget --no-check-certificate \\\n",
        "    https://storage.googleapis.com/laurencemoroney-blog.appspot.com/glove.6B.100d.txt \\\n",
        "    -O /tmp/glove.6B.100d.txt\n",
        "embeddings_index = {};\n",
        "with open('/tmp/glove.6B.100d.txt') as f:\n",
        "    for line in f:\n",
        "        values = line.split();\n",
        "        word = values[0];\n",
        "        coefs = np.asarray(values[1:], dtype='float32');\n",
        "        embeddings_index[word] = coefs;\n",
        "\n",
        "embeddings_matrix = np.zeros((vocab_size+1, embedding_dim));\n",
        "for word, i in word_index.items():\n",
        "    embedding_vector = embeddings_index.get(word);\n",
        "    if embedding_vector is not None:\n",
        "        embeddings_matrix[i] = embedding_vector;"
      ],
      "execution_count": 0,
      "outputs": [
        {
          "output_type": "stream",
          "text": [
            "--2020-05-21 09:33:10--  https://storage.googleapis.com/laurencemoroney-blog.appspot.com/glove.6B.100d.txt\n",
            "Resolving storage.googleapis.com (storage.googleapis.com)... 172.217.194.128, 2404:6800:4003:c03::80\n",
            "Connecting to storage.googleapis.com (storage.googleapis.com)|172.217.194.128|:443... connected.\n",
            "HTTP request sent, awaiting response... 200 OK\n",
            "Length: 347116733 (331M) [text/plain]\n",
            "Saving to: ‘/tmp/glove.6B.100d.txt’\n",
            "\n",
            "/tmp/glove.6B.100d. 100%[===================>] 331.04M   213MB/s    in 1.6s    \n",
            "\n",
            "2020-05-21 09:33:12 (213 MB/s) - ‘/tmp/glove.6B.100d.txt’ saved [347116733/347116733]\n",
            "\n"
          ],
          "name": "stdout"
        }
      ]
    },
    {
      "cell_type": "code",
      "metadata": {
        "colab_type": "code",
        "id": "71NLk_lpFLNt",
        "outputId": "f91ca086-557e-4d2e-9ce7-1b9cb14fe0d8",
        "colab": {
          "base_uri": "https://localhost:8080/",
          "height": 34
        }
      },
      "source": [
        "print(len(embeddings_matrix))\n",
        "# Expected Output\n",
        "# 138859"
      ],
      "execution_count": 0,
      "outputs": [
        {
          "output_type": "stream",
          "text": [
            "138856\n"
          ],
          "name": "stdout"
        }
      ]
    },
    {
      "cell_type": "code",
      "metadata": {
        "colab_type": "code",
        "id": "iKKvbuEBOGFz",
        "outputId": "23dcf529-ba41-400d-9e19-660a4d658be5",
        "colab": {
          "base_uri": "https://localhost:8080/",
          "height": 1000
        }
      },
      "source": [
        "model = tf.keras.Sequential([\n",
        "    tf.keras.layers.Embedding(vocab_size+1, embedding_dim, input_length=max_length, weights=[embeddings_matrix], trainable=False),\n",
        "    tf.keras.layers.Dropout(0.2),\n",
        "    tf.keras.layers.Conv1D(64, 5, activation='relu'),\n",
        "    tf.keras.layers.MaxPooling1D(pool_size=4),\n",
        "    tf.keras.layers.LSTM(64),\n",
        "    tf.keras.layers.Dense(1, activation='sigmoid')\n",
        "])\n",
        "model.compile(loss='binary_crossentropy',optimizer='adam',metrics=['accuracy'])\n",
        "model.summary()\n",
        "\n",
        "num_epochs = 50\n",
        "history = model.fit(training_sequences, np.array(training_labels), epochs=num_epochs, validation_data=(test_sequences, np.array(test_labels)), verbose=2)\n",
        "\n",
        "print(\"Training Complete\")\n"
      ],
      "execution_count": 0,
      "outputs": [
        {
          "output_type": "stream",
          "text": [
            "Model: \"sequential_3\"\n",
            "_________________________________________________________________\n",
            "Layer (type)                 Output Shape              Param #   \n",
            "=================================================================\n",
            "embedding_3 (Embedding)      (None, 16, 100)           13885600  \n",
            "_________________________________________________________________\n",
            "dropout_3 (Dropout)          (None, 16, 100)           0         \n",
            "_________________________________________________________________\n",
            "conv1d_3 (Conv1D)            (None, 12, 64)            32064     \n",
            "_________________________________________________________________\n",
            "max_pooling1d_3 (MaxPooling1 (None, 3, 64)             0         \n",
            "_________________________________________________________________\n",
            "lstm_3 (LSTM)                (None, 64)                33024     \n",
            "_________________________________________________________________\n",
            "dense_3 (Dense)              (None, 1)                 65        \n",
            "=================================================================\n",
            "Total params: 13,950,753\n",
            "Trainable params: 65,153\n",
            "Non-trainable params: 13,885,600\n",
            "_________________________________________________________________\n",
            "Epoch 1/50\n",
            "4500/4500 - 17s - loss: 0.5684 - accuracy: 0.6968 - val_loss: 0.5336 - val_accuracy: 0.7294\n",
            "Epoch 2/50\n",
            "4500/4500 - 16s - loss: 0.5286 - accuracy: 0.7303 - val_loss: 0.5142 - val_accuracy: 0.7417\n",
            "Epoch 3/50\n",
            "4500/4500 - 16s - loss: 0.5130 - accuracy: 0.7423 - val_loss: 0.5086 - val_accuracy: 0.7482\n",
            "Epoch 4/50\n",
            "4500/4500 - 16s - loss: 0.5003 - accuracy: 0.7517 - val_loss: 0.5036 - val_accuracy: 0.7507\n",
            "Epoch 5/50\n",
            "4500/4500 - 16s - loss: 0.4915 - accuracy: 0.7568 - val_loss: 0.5069 - val_accuracy: 0.7529\n",
            "Epoch 6/50\n",
            "4500/4500 - 16s - loss: 0.4848 - accuracy: 0.7623 - val_loss: 0.5042 - val_accuracy: 0.7498\n",
            "Epoch 7/50\n",
            "4500/4500 - 15s - loss: 0.4778 - accuracy: 0.7655 - val_loss: 0.5101 - val_accuracy: 0.7448\n",
            "Epoch 8/50\n",
            "4500/4500 - 15s - loss: 0.4727 - accuracy: 0.7705 - val_loss: 0.5022 - val_accuracy: 0.7505\n",
            "Epoch 9/50\n",
            "4500/4500 - 15s - loss: 0.4688 - accuracy: 0.7727 - val_loss: 0.5011 - val_accuracy: 0.7511\n",
            "Epoch 10/50\n",
            "4500/4500 - 15s - loss: 0.4646 - accuracy: 0.7757 - val_loss: 0.5072 - val_accuracy: 0.7529\n",
            "Epoch 11/50\n",
            "4500/4500 - 15s - loss: 0.4617 - accuracy: 0.7776 - val_loss: 0.5061 - val_accuracy: 0.7484\n",
            "Epoch 12/50\n",
            "4500/4500 - 15s - loss: 0.4578 - accuracy: 0.7789 - val_loss: 0.5029 - val_accuracy: 0.7516\n",
            "Epoch 13/50\n",
            "4500/4500 - 15s - loss: 0.4557 - accuracy: 0.7792 - val_loss: 0.5038 - val_accuracy: 0.7502\n",
            "Epoch 14/50\n",
            "4500/4500 - 15s - loss: 0.4537 - accuracy: 0.7817 - val_loss: 0.5062 - val_accuracy: 0.7501\n",
            "Epoch 15/50\n",
            "4500/4500 - 15s - loss: 0.4519 - accuracy: 0.7833 - val_loss: 0.5058 - val_accuracy: 0.7498\n",
            "Epoch 16/50\n",
            "4500/4500 - 15s - loss: 0.4491 - accuracy: 0.7831 - val_loss: 0.5056 - val_accuracy: 0.7477\n",
            "Epoch 17/50\n",
            "4500/4500 - 15s - loss: 0.4469 - accuracy: 0.7851 - val_loss: 0.5057 - val_accuracy: 0.7511\n",
            "Epoch 18/50\n",
            "4500/4500 - 15s - loss: 0.4448 - accuracy: 0.7874 - val_loss: 0.5093 - val_accuracy: 0.7490\n",
            "Epoch 19/50\n",
            "4500/4500 - 15s - loss: 0.4434 - accuracy: 0.7875 - val_loss: 0.5141 - val_accuracy: 0.7487\n",
            "Epoch 20/50\n",
            "4500/4500 - 16s - loss: 0.4423 - accuracy: 0.7884 - val_loss: 0.5140 - val_accuracy: 0.7459\n",
            "Epoch 21/50\n",
            "4500/4500 - 15s - loss: 0.4419 - accuracy: 0.7884 - val_loss: 0.5158 - val_accuracy: 0.7468\n",
            "Epoch 22/50\n",
            "4500/4500 - 15s - loss: 0.4409 - accuracy: 0.7887 - val_loss: 0.5130 - val_accuracy: 0.7464\n",
            "Epoch 23/50\n",
            "4500/4500 - 15s - loss: 0.4392 - accuracy: 0.7899 - val_loss: 0.5165 - val_accuracy: 0.7471\n",
            "Epoch 24/50\n",
            "4500/4500 - 15s - loss: 0.4372 - accuracy: 0.7906 - val_loss: 0.5196 - val_accuracy: 0.7490\n",
            "Epoch 25/50\n",
            "4500/4500 - 15s - loss: 0.4369 - accuracy: 0.7913 - val_loss: 0.5163 - val_accuracy: 0.7465\n",
            "Epoch 26/50\n",
            "4500/4500 - 15s - loss: 0.4364 - accuracy: 0.7925 - val_loss: 0.5165 - val_accuracy: 0.7471\n",
            "Epoch 27/50\n",
            "4500/4500 - 15s - loss: 0.4364 - accuracy: 0.7922 - val_loss: 0.5222 - val_accuracy: 0.7458\n",
            "Epoch 28/50\n",
            "4500/4500 - 14s - loss: 0.4346 - accuracy: 0.7928 - val_loss: 0.5221 - val_accuracy: 0.7432\n",
            "Epoch 29/50\n",
            "4500/4500 - 15s - loss: 0.4332 - accuracy: 0.7944 - val_loss: 0.5197 - val_accuracy: 0.7444\n",
            "Epoch 30/50\n",
            "4500/4500 - 14s - loss: 0.4345 - accuracy: 0.7928 - val_loss: 0.5229 - val_accuracy: 0.7467\n",
            "Epoch 31/50\n",
            "4500/4500 - 14s - loss: 0.4338 - accuracy: 0.7935 - val_loss: 0.5221 - val_accuracy: 0.7480\n",
            "Epoch 32/50\n",
            "4500/4500 - 14s - loss: 0.4333 - accuracy: 0.7934 - val_loss: 0.5201 - val_accuracy: 0.7448\n",
            "Epoch 33/50\n",
            "4500/4500 - 14s - loss: 0.4310 - accuracy: 0.7951 - val_loss: 0.5226 - val_accuracy: 0.7446\n",
            "Epoch 34/50\n",
            "4500/4500 - 14s - loss: 0.4320 - accuracy: 0.7950 - val_loss: 0.5187 - val_accuracy: 0.7459\n",
            "Epoch 35/50\n",
            "4500/4500 - 15s - loss: 0.4315 - accuracy: 0.7950 - val_loss: 0.5206 - val_accuracy: 0.7474\n",
            "Epoch 36/50\n",
            "4500/4500 - 14s - loss: 0.4292 - accuracy: 0.7965 - val_loss: 0.5203 - val_accuracy: 0.7461\n",
            "Epoch 37/50\n",
            "4500/4500 - 14s - loss: 0.4300 - accuracy: 0.7959 - val_loss: 0.5224 - val_accuracy: 0.7430\n",
            "Epoch 38/50\n",
            "4500/4500 - 14s - loss: 0.4287 - accuracy: 0.7961 - val_loss: 0.5218 - val_accuracy: 0.7461\n",
            "Epoch 39/50\n",
            "4500/4500 - 14s - loss: 0.4284 - accuracy: 0.7956 - val_loss: 0.5270 - val_accuracy: 0.7473\n",
            "Epoch 40/50\n"
          ],
          "name": "stdout"
        }
      ]
    },
    {
      "cell_type": "code",
      "metadata": {
        "colab_type": "code",
        "id": "qxju4ItJKO8F",
        "colab": {}
      },
      "source": [
        "import matplotlib.image  as mpimg\n",
        "import matplotlib.pyplot as plt\n",
        "\n",
        "#-----------------------------------------------------------\n",
        "# Retrieve a list of list results on training and test data\n",
        "# sets for each training epoch\n",
        "#-----------------------------------------------------------\n",
        "acc=history.history['accuracy']\n",
        "val_acc=history.history['val_accuracy']\n",
        "loss=history.history['loss']\n",
        "val_loss=history.history['val_loss']\n",
        "\n",
        "epochs=range(len(acc)) # Get number of epochs\n",
        "\n",
        "#------------------------------------------------\n",
        "# Plot training and validation accuracy per epoch\n",
        "#------------------------------------------------\n",
        "plt.plot(epochs, acc, 'r')\n",
        "plt.plot(epochs, val_acc, 'b')\n",
        "plt.title('Training and validation accuracy')\n",
        "plt.xlabel(\"Epochs\")\n",
        "plt.ylabel(\"Accuracy\")\n",
        "plt.legend([\"Accuracy\", \"Validation Accuracy\"])\n",
        "\n",
        "plt.figure()\n",
        "\n",
        "#------------------------------------------------\n",
        "# Plot training and validation loss per epoch\n",
        "#------------------------------------------------\n",
        "plt.plot(epochs, loss, 'r')\n",
        "plt.plot(epochs, val_loss, 'b')\n",
        "plt.title('Training and validation loss')\n",
        "plt.xlabel(\"Epochs\")\n",
        "plt.ylabel(\"Loss\")\n",
        "plt.legend([\"Loss\", \"Validation Loss\"])\n",
        "\n",
        "plt.figure()\n",
        "\n",
        "\n",
        "# Expected Output\n",
        "# A chart where the validation loss does not increase sharply!"
      ],
      "execution_count": 0,
      "outputs": []
    }
  ]
}